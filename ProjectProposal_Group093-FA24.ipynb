{
 "cells": [
  {
   "cell_type": "markdown",
   "metadata": {},
   "source": [
    "# COGS 108 - Project Proposal"
   ]
  },
  {
   "cell_type": "markdown",
   "metadata": {},
   "source": [
    "# Names\n",
    "\n",
    "- Andy Huang\n",
    "- Audrey Kim\n",
    "- Katie Moc\n",
    "- Khang Quach\n",
    "- Elton Villalta"
   ]
  },
  {
   "cell_type": "markdown",
   "metadata": {},
   "source": [
    "# Research Question"
   ]
  },
  {
   "cell_type": "markdown",
   "metadata": {},
   "source": [
    "-  Include a specific, clear data science question.\n",
    "-  Make sure what you're measuring (variables) to answer the question is clear\n",
    "\n",
    "This question should be specific, answerable with data, and clear. A general question with specific subquestions is permitted. (1-2 sentences). When we read this we should know clearly what your project will be about\n",
    "\n",
    "______________________________________________________________________________________________________________\n",
    "\n",
    "Is there a relationship between the music trends, genre, artists, and duration in Spotify and America's political affiliation by the states?"
   ]
  },
  {
   "cell_type": "markdown",
   "metadata": {},
   "source": [
    "## Background and Prior Work"
   ]
  },
  {
   "cell_type": "markdown",
   "metadata": {},
   "source": [
    "\n",
    "- Include a general introduction to your topic\n",
    "- Include explanation of what work has been done previously\n",
    "- Include citations or links to previous work\n",
    "\n",
    "This section will present the background and context of your topic and question in a few paragraphs. Include a general introduction to your topic and then describe what information you currently know about the topic after doing your initial research. Include references to other projects who have asked similar questions or approached similar problems. Explain what others have learned in their projects.\n",
    "\n",
    "Find some relevant prior work, and reference those sources, summarizing what each did and what they learned. Even if you think you have a totally novel question, find the most similar prior work that you can and discuss how it relates to your project.\n",
    "\n",
    "References can be research publications, but they need not be. Blogs, GitHub repositories, company websites, etc., are all viable references if they are relevant to your project. It must be clear which information comes from which references. (2-3 paragraphs, including at least 2 references)\n",
    "\n",
    " **Use inline citation through HTML footnotes to specify which references support which statements** \n",
    "\n",
    "For example: After government genocide in the 20th century, real birds were replaced with surveillance drones designed to look just like birds.<a name=\"cite_ref-1\"></a>[<sup>1</sup>](#cite_note-1) Use a minimum of 2 or 3 citations, but we prefer more.<a name=\"cite_ref-2\"></a>[<sup>2</sup>](#cite_note-2) You need enough to fully explain and back up important facts. \n",
    "\n",
    "Note that if you click a footnote number in the paragraph above it will transport you to the proper entry in the footnotes list below.  And if you click the ^ in the footnote entry, it will return you to the place in the main text where the footnote is made.\n",
    "\n",
    "To understand the HTML here, `<a name=\"#...\"> </a>` is a tag that allows you produce a named reference for a given location.  Markdown has the construciton `[text with hyperlink](#named reference)` that will produce a clickable link that transports you the named reference.\n",
    "\n",
    "1. <a name=\"cite_note-1\"></a> [^](#cite_ref-1) Lorenz, T. (9 Dec 2021) Birds Aren’t Real, or Are They? Inside a Gen Z Conspiracy Theory. *The New York Times*. https://www.nytimes.com/2021/12/09/technology/birds-arent-real-gen-z-misinformation.html \n",
    "2. <a name=\"cite_note-2\"></a> [^](#cite_ref-2) Also refs should be important to the background, not some randomly chosen vaguely related stuff. Include a web link if possible in refs as above.\n",
    "\n",
    "______________________________________________________________________________________________________________\n",
    "\n",
    "Throughout history, music has played an important role in the creative expression of disadvantaged communities. We want to gain a greater insight of this relationship using exploratory data analysis. After doing some research, what we currently know is that groups fighting for liberation often turned to the rap and R&B genres and wrote songs about their struggles, especially throughout the civil rights movement. In more recent decades, we have seen increased political expression in other genres, such as pop and singer-songwrier. We want to find out if these genres and other music variables have a correlation with political affiliation over time by state.\n",
    "\n",
    "Past research has shown that people's music preferences can help denote their political affiliation. Specifically, republicans typically prefer country music and democrats typically prefer pop, rap, hip-hop, classic rock, and/or alternative music. Additionally, democrats are less likely to prefer country music.<a name=\"cite_ref-1\"></a>[<sup>1</sup>](#cite_note-3) Further studies delve into the relationship between music preferences, partisanship, and political attitudes. Historically, there has been a connection between music and political affiliation, where music often has an influence and reflected political events. Using an original survey for newer findings, the study again found that Republicans are more likely to prefer Country music, while Democrats tend to more Classic Rock and Alternative genres. These preferences were found to influence the person's political attitudes, where Republicans preferring New Country, shows more favored opinions of Republican Congressmen and the Supreme Court. These findings show that political identities can be strengthened with music preferences through Affective polarization.<a name=\"cite_ref-1\"></a>[<sup>2</sup>](#cite_note-3) This is relevant to our project because this research showcases a clear correlation between music genre and political party. We want to explore this further by researching additional variables and focus on the trends among various US states.\n",
    "\n",
    "1. <a name=\"cite_note-3\"></a> [^](#cite_ref-3) Dolan, Eric W. “Music Preferences Serve as Markers of Political Affiliation.” PsyPost, 2 Mar. 2024, https://www.psypost.org/music-preferences-serve-as-markers-of-political-affiliation/\n",
    "2. <a name=\"cite_note-4\"></a> [^](#cite_ref-4) Mack, Brianna N. Martin, Teresa R. 26 December, 2023. \"Party Rocking: Exploring the relationship between music preference, partisanship, and political attitudes\" Ohio Wesleyan University. https://www.sciencedirect.com/science/article/pii/S0304422X23001018\n"
   ]
  },
  {
   "cell_type": "markdown",
   "metadata": {},
   "source": [
    "# Hypothesis\n"
   ]
  },
  {
   "cell_type": "markdown",
   "metadata": {},
   "source": [
    "\n",
    "- Put your hypothesis here, this is different than your question. This what you think the answer will be \n",
    "- Ensure that this hypothesis is clear to readers\n",
    "- Explain why you think this will be the outcome (what was your thinking?)\n",
    "\n",
    "If you question is \"What is the association between X and Y\" then a hypothesis might be \"We predict a strong correlation between X and Y\" or you might predict no correlation or any other possible relationship. Briefly explain your thinking. (2-3 sentences)\n",
    "\n",
    "______________________________________________________________________________________________________________\n",
    "\n",
    "We predict a strong correlation between specific genres, artists, and duration of music and state political affiliation. We don't specify the direction because certain genres and artists may have positive correlations with one political party and negative correlations with another. We expect this result because related research has shown a strong relationship between genre and party, and we infer that other variables likely result in similar results."
   ]
  },
  {
   "cell_type": "markdown",
   "metadata": {},
   "source": [
    "# Data"
   ]
  },
  {
   "cell_type": "markdown",
   "metadata": {},
   "source": [
    "1. Explain what the **ideal** dataset you would want to answer this question. (This should include: What variables? How many observations? Who/what/how would these data be collected? How would these data be stored/organized?)\n",
    "1. Search for potential **real** datasets that could provide you with something useful for this project.  You do not have to find every piece of data you will use, but you do need to have demonstrated some idea that (a) this data is gettable and (b) that this data may be different from what your ideal is.\n",
    "\n",
    "______________________________________________________________________________________________________________\n",
    "\n",
    "\n",
    "The ideal dataset we want to answer our question would preferably include data from elections and their results in each state throughout time. More specifically, we want to know the winning political party in each state throughout the election years. We are also interested in seeing what genres are inclined to show political sentiment and how they are influenced each election. Ideally we would also want to be able to do a sentiment analysis of the top songs in that genre to gain a better understanding of the current political sentiment. We will have to wrangle our data into a separate table that includes the variables that we are interested in since we are pulling data from different datasets.\n",
    "\n",
    "Below we link our potential datasets:\n",
    "- https://www.kaggle.com/datasets/tunguz/us-elections-dataset/data \n",
    "- https://www.kaggle.com/datasets/subhajournal/political-sentiment-analysis \n",
    "- https://www.kaggle.com/datasets/thedevastator/spotify-tracks-genre-dataset"
   ]
  },
  {
   "cell_type": "markdown",
   "metadata": {},
   "source": [
    "# Ethics & Privacy"
   ]
  },
  {
   "cell_type": "markdown",
   "metadata": {},
   "source": [
    "- Thoughtful discussion of ethical concerns included\n",
    "- Ethical concerns consider the whole data science process (question asked, data collected, data being used, the bias in data, analysis, post-analysis, etc.)\n",
    "- How your group handled bias/ethical concerns clearly described\n",
    "\n",
    "Acknowledge and address any ethics & privacy related issues of your question(s), proposed dataset(s), and/or analyses. Use the information provided in lecture to guide your group discussion and thinking. If you need further guidance, check out [Deon's Ethics Checklist](http://deon.drivendata.org/#data-science-ethics-checklist). In particular:\n",
    "\n",
    "- Are there any biases/privacy/terms of use issues with the data you propsed?\n",
    "- Are there potential biases in your dataset(s), in terms of who it composes, and how it was collected, that may be problematic in terms of it allowing for equitable analysis? (For example, does your data exclude particular populations, or is it likely to reflect particular human biases in a way that could be a problem?)\n",
    "- How will you set out to detect these specific biases before, during, and after/when communicating your analysis?\n",
    "- Are there any other issues related to your topic area, data, and/or analyses that are potentially problematic in terms of data privacy and equitable impact?\n",
    "- How will you handle issues you identified?\n",
    "\n",
    "______________________________________________________________________________________________________________\n",
    "\n",
    "The Kaggle dataset we are using analyzes US election results from 1976-2020, based on U.S. states, districts, and on the national level. We assume that since these election results are public nationwide that there wouldn’t be problems with the privacy/terms of use of this data. However, the data itself can have bias since voter turnout has varied from year-to-year, which doesn’t account for the public opinion of everyone in a certain state. Generally, more voter turnout has resulted in elections that were more high-stakes compared to other elections. As well, there are laws that prevent certain demographics from voting: for instance, non-citizens, including legal residents, convicted felons, and some with a mental disability cannot vote based on different states. \n",
    "\n",
    "The Spotify dataset was made using Spotify’s web API, and does not rely on the data of their individual users’ listening activity in a way it breaches their personal privacy. However, Spotify wasn’t launched in the U.S. until 2011, and after the trial period ended in January 2012 users were limited to ten hours of streaming per month. We cannot analyze the relationship of music preference and U.S. political preference based on Spotify alone for years before 2011 because of this reason. To answer our research question with best accuracy, we must analyze Spotify listening trends from 2011 and beyond in relation to U.S. election results to show a more direct correlation."
   ]
  },
  {
   "cell_type": "markdown",
   "metadata": {},
   "source": [
    "# Team Expectations "
   ]
  },
  {
   "cell_type": "markdown",
   "metadata": {},
   "source": [
    "\n",
    "Read over the [COGS108 Team Policies](https://github.com/COGS108/Projects/blob/master/COGS108_TeamPolicies.md) individually. Then, include your group’s expectations of one another for successful completion of your COGS108 project below. Discuss and agree on what all of your expectations are. Discuss how your team will communicate throughout the quarter and consider how you will communicate respectfully should conflicts arise. By including each member’s name above and by adding their name to the submission, you are indicating that you have read the COGS108 Team Policies, accept your team’s expectations below, and have every intention to fulfill them. These expectations are for your team’s use and benefit — they won’t be graded for their details.\n",
    "\n",
    "* Show up to scheduled meetings consistently\n",
    "* Evenly assign tasks during meetings\n",
    "* Complete assigned tasks before meeting \n",
    "* Communicate via Discord beforehand if unable to complete assigned tasks or show up to meeting\n",
    "* Communicate and respond timely (within 1 day)\n",
    "* Voice opinions respectfully\n",
    "* Always ask for help if needed!"
   ]
  },
  {
   "cell_type": "markdown",
   "metadata": {},
   "source": [
    "# Project Timeline Proposal"
   ]
  },
  {
   "cell_type": "markdown",
   "metadata": {},
   "source": [
    "Specify your team's specific project timeline. An example timeline has been provided. Changes the dates, times, names, and details to fit your group's plan.\n",
    "\n",
    "If you think you will need any special resources or training outside what we have covered in COGS 108 to solve your problem, then your proposal should state these clearly. For example, if you have selected a problem that involves implementing multiple neural networks, please state this so we can make sure you know what you’re doing and so we can point you to resources you will need to implement your project. Note that you are not required to use outside methods.\n",
    "\n",
    "\n",
    "\n",
    "| Meeting Date  | Meeting Time| Completed Before Meeting  | Discuss at Meeting |\n",
    "|---|---|---|---|\n",
    "| 10/30  |  12:30 PM | Read & Think about COGS 108 expectations; brainstorm topics/questions; find dataset(s)  | Discuss and decide on final project topic; discuss hypothesis; begin background research; submit project proposal | \n",
    "| 11/5  |  3 PM |  Do background research on topic | Discuss who will focus on what (Background, Ethics, EDA, Conclusion, etc.); Begin cleaning/tidying data; Discuss wrangling and possible analytical approaches | \n",
    "| 11/12  | 3 PM  | Progress on assigned tasks; Clean data  | Work on checkpoint #1; Discuss any questions or other ideas we might want to add   |\n",
    "| 11/19  | 3 PM  | Progress on assigned tasks | Review/Edit wrangling/EDA; Discuss Analysis Plan   |\n",
    "| 11/26  | 3 PM  | Progress on assigned tasks; EDA | Work on checkpoint #2; Discuss/edit Analysis |\n",
    "| 12/3  | 3 PM  | Complete analysis; Draft results/conclusion/discussion | Discuss/edit full project; Work on video |\n",
    "| 12/11  | Before 11:59 PM  | NA | Turn in Final Project & Group Project Surveys |"
   ]
  },
  {
   "cell_type": "markdown",
   "metadata": {},
   "source": []
  }
 ],
 "metadata": {
  "kernelspec": {
   "display_name": "Python 3 (ipykernel)",
   "language": "python",
   "name": "python3"
  },
  "language_info": {
   "codemirror_mode": {
    "name": "ipython",
    "version": 3
   },
   "file_extension": ".py",
   "mimetype": "text/x-python",
   "name": "python",
   "nbconvert_exporter": "python",
   "pygments_lexer": "ipython3",
   "version": "3.9.7"
  }
 },
 "nbformat": 4,
 "nbformat_minor": 2
}
